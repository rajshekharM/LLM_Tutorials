{
  "nbformat": 4,
  "nbformat_minor": 0,
  "metadata": {
    "colab": {
      "provenance": [],
      "authorship_tag": "ABX9TyNAPAMHOImUbcBJpS8UhEHb",
      "include_colab_link": true
    },
    "kernelspec": {
      "name": "python3",
      "display_name": "Python 3"
    },
    "language_info": {
      "name": "python"
    }
  },
  "cells": [
    {
      "cell_type": "markdown",
      "metadata": {
        "id": "view-in-github",
        "colab_type": "text"
      },
      "source": [
        "<a href=\"https://colab.research.google.com/github/rajshekharM/LLM_Tutorials/blob/main/Query_and_Answer_on_text_files.ipynb\" target=\"_parent\"><img src=\"https://colab.research.google.com/assets/colab-badge.svg\" alt=\"Open In Colab\"/></a>"
      ]
    },
    {
      "cell_type": "code",
      "source": [
        "!pip install langchain langchain-community nltk"
      ],
      "metadata": {
        "id": "FuHDYtlvGcfU"
      },
      "execution_count": null,
      "outputs": []
    },
    {
      "cell_type": "code",
      "source": [
        "!pip install unstructured"
      ],
      "metadata": {
        "id": "-4l_5QN-Hd-M"
      },
      "execution_count": null,
      "outputs": []
    },
    {
      "cell_type": "code",
      "source": [
        "!pip install openai"
      ],
      "metadata": {
        "id": "FOnBrYlfHwJ_"
      },
      "execution_count": null,
      "outputs": []
    },
    {
      "cell_type": "code",
      "source": [
        "!pip install tiktoken"
      ],
      "metadata": {
        "id": "YAClBc9nH7iK"
      },
      "execution_count": null,
      "outputs": []
    },
    {
      "cell_type": "code",
      "source": [
        "!pip install faiss-gpu"
      ],
      "metadata": {
        "id": "aKCHLajIICRp"
      },
      "execution_count": null,
      "outputs": []
    },
    {
      "cell_type": "code",
      "source": [
        "pip install -U langchain-openai"
      ],
      "metadata": {
        "id": "oD-fOqjwIS5J"
      },
      "execution_count": null,
      "outputs": []
    },
    {
      "cell_type": "code",
      "source": [
        "pip install \"unstructured[pdf]\""
      ],
      "metadata": {
        "id": "oMtOXD9sL8Ed"
      },
      "execution_count": null,
      "outputs": []
    },
    {
      "cell_type": "code",
      "execution_count": 8,
      "metadata": {
        "id": "j5Fv8V_zGXte"
      },
      "outputs": [],
      "source": [
        "from langchain.embeddings.openai import OpenAIEmbeddings\n",
        "#from langchain.vectorstores import FAISS\n",
        "from langchain_community.vectorstores import FAISS\n",
        "from langchain.text_splitter import RecursiveCharacterTextSplitter\n",
        "from langchain import OpenAI\n",
        "#from langchain_community.llms import OpenAI\n",
        "from langchain_openai import OpenAI\n",
        "from langchain.chains import RetrievalQA\n",
        "#from langchain.document_loaders import DirectoryLoader\n",
        "from langchain_community.document_loaders import DirectoryLoader\n",
        "import os\n",
        "import nltk\n",
        "\n",
        "openai_api_key = os.getenv(\"OPENAI_API_KEY\", \"YOUR_API_KEY\")\n",
        "\n",
        "\n",
        "\n"
      ]
    },
    {
      "cell_type": "code",
      "source": [
        "# Create your Loader\n",
        "loader = DirectoryLoader('/content/', glob='**/*.pdf')  # load all 'pdf' files under /content/ directory  (can replace with 'txt' as well, with a slight change in import library)\n"
      ],
      "metadata": {
        "id": "ZqEGH1CRVAXs"
      },
      "execution_count": 9,
      "outputs": []
    },
    {
      "cell_type": "code",
      "source": [
        "# Load up your text into documents\n",
        "documents = loader.load()"
      ],
      "metadata": {
        "id": "NSqdgLjbVAVP"
      },
      "execution_count": 10,
      "outputs": []
    },
    {
      "cell_type": "code",
      "source": [
        "\n",
        "# Get your text splitter ready\n",
        "text_splitter = RecursiveCharacterTextSplitter(chunk_size=1000, chunk_overlap=0)\n"
      ],
      "metadata": {
        "id": "Ap8GlJciVANy"
      },
      "execution_count": 11,
      "outputs": []
    },
    {
      "cell_type": "code",
      "source": [
        "# Split your documents into texts\n",
        "texts = text_splitter.split_documents(documents)\n",
        "\n",
        "#print(texts)"
      ],
      "metadata": {
        "id": "p-rQemV2VGf3"
      },
      "execution_count": 12,
      "outputs": []
    },
    {
      "cell_type": "code",
      "source": [
        "# Turn your texts into embeddings\n",
        "embeddings = OpenAIEmbeddings(openai_api_key=openai_api_key)\n",
        "\n"
      ],
      "metadata": {
        "id": "ciYVEOquVGdC"
      },
      "execution_count": 13,
      "outputs": []
    },
    {
      "cell_type": "code",
      "source": [
        "# Get your docsearch ready\n",
        "docsearch = FAISS.from_documents(texts, embeddings)\n",
        "\n"
      ],
      "metadata": {
        "id": "O_4ANVXvVALM"
      },
      "execution_count": 14,
      "outputs": []
    },
    {
      "cell_type": "code",
      "source": [
        "# Load up your LLM\n",
        "llm = OpenAI(openai_api_key=openai_api_key)\n",
        "\n"
      ],
      "metadata": {
        "id": "dgubqaxZVK-5"
      },
      "execution_count": 15,
      "outputs": []
    },
    {
      "cell_type": "code",
      "source": [
        "# Create your Retriever\n",
        "qa = RetrievalQA.from_chain_type(llm=llm, chain_type=\"stuff\", retriever=docsearch.as_retriever())"
      ],
      "metadata": {
        "id": "K_9F5JLmVK55"
      },
      "execution_count": 16,
      "outputs": []
    },
    {
      "cell_type": "code",
      "source": [
        "# Run a query\n",
        "query = \"when did universe come to life?\"\n",
        "qa.run(query)"
      ],
      "metadata": {
        "colab": {
          "base_uri": "https://localhost:8080/",
          "height": 36
        },
        "id": "IsLCgKioHp8c",
        "outputId": "d17fca00-2f25-447e-8ec9-881629c64d80"
      },
      "execution_count": 17,
      "outputs": [
        {
          "output_type": "execute_result",
          "data": {
            "text/plain": [
              "' The universe came to life around 13 billion years ago according to the hot Big Bang theory.'"
            ],
            "application/vnd.google.colaboratory.intrinsic+json": {
              "type": "string"
            }
          },
          "metadata": {},
          "execution_count": 17
        }
      ]
    },
    {
      "cell_type": "code",
      "source": [],
      "metadata": {
        "id": "yNKijHf4L1Px"
      },
      "execution_count": 17,
      "outputs": []
    },
    {
      "cell_type": "code",
      "source": [
        "# SOURCES\n",
        "\n",
        "qa = RetrievalQA.from_chain_type(llm=llm,\n",
        "                                chain_type=\"stuff\",\n",
        "                                retriever=docsearch.as_retriever(),\n",
        "                                return_source_documents=True)\n",
        "query = \"when did universe come to life?\"\n",
        "result = qa({\"query\": query})\n",
        "\n",
        "print(result['result'])"
      ],
      "metadata": {
        "colab": {
          "base_uri": "https://localhost:8080/"
        },
        "id": "hmsbCYVXKBpQ",
        "outputId": "b47c1346-d01d-4bc6-8642-3c3db2a8951d"
      },
      "execution_count": 18,
      "outputs": [
        {
          "output_type": "stream",
          "name": "stdout",
          "text": [
            " \n",
            "The universe is estimated to have come to life around 13 billion years ago, according to the hot Big Bang theory.\n"
          ]
        }
      ]
    },
    {
      "cell_type": "code",
      "source": [],
      "metadata": {
        "id": "1J5AOQ82Ly8v"
      },
      "execution_count": 18,
      "outputs": []
    }
  ]
}